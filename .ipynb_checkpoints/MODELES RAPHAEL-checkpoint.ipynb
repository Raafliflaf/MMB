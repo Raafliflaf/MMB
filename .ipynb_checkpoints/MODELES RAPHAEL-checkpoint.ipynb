{
 "cells": [
  {
   "cell_type": "markdown",
   "metadata": {},
   "source": [
    "it seems like you have to run the notebook locally because i cant install biogeme online"
   ]
  },
  {
   "cell_type": "code",
   "execution_count": 2,
   "metadata": {
    "cell_id": "148d9c3f4b1d40938b56a0e1d71b94c9",
    "deepnote_cell_type": "code",
    "deepnote_to_be_reexecuted": false,
    "execution_millis": 10057,
    "execution_start": 1698745673433,
    "source_hash": "c0ef7bfd"
   },
   "outputs": [
    {
     "name": "stdout",
     "output_type": "stream",
     "text": [
      "Defaulting to user installation because normal site-packages is not writeable\n",
      "Requirement already satisfied: biogeme in c:\\programdata\\anaconda3\\lib\\site-packages (3.2.12)\n",
      "Requirement already satisfied: pandas>=1.3.5 in c:\\programdata\\anaconda3\\lib\\site-packages (from biogeme) (2.0.3)\n",
      "Requirement already satisfied: scipy>=1.7.3 in c:\\programdata\\anaconda3\\lib\\site-packages (from biogeme) (1.11.1)\n",
      "Requirement already satisfied: tqdm>=4.64.1 in c:\\programdata\\anaconda3\\lib\\site-packages (from biogeme) (4.65.0)\n",
      "Requirement already satisfied: tomlkit>=0.11.5 in c:\\programdata\\anaconda3\\lib\\site-packages (from biogeme) (0.12.1)\n",
      "Requirement already satisfied: cythonbiogeme>=1.0.1 in c:\\programdata\\anaconda3\\lib\\site-packages (from biogeme) (1.0.1)\n",
      "Requirement already satisfied: biogeme-optimization>=0.0.4 in c:\\programdata\\anaconda3\\lib\\site-packages (from biogeme) (0.0.4)\n",
      "Requirement already satisfied: numpy>=1.24.2 in c:\\programdata\\anaconda3\\lib\\site-packages (from biogeme-optimization>=0.0.4->biogeme) (1.24.3)\n",
      "Requirement already satisfied: cython>=0.29.16 in c:\\programdata\\anaconda3\\lib\\site-packages (from cythonbiogeme>=1.0.1->biogeme) (3.0.4)\n",
      "Requirement already satisfied: python-dateutil>=2.8.2 in c:\\programdata\\anaconda3\\lib\\site-packages (from pandas>=1.3.5->biogeme) (2.8.2)\n",
      "Requirement already satisfied: pytz>=2020.1 in c:\\programdata\\anaconda3\\lib\\site-packages (from pandas>=1.3.5->biogeme) (2023.3.post1)\n",
      "Requirement already satisfied: tzdata>=2022.1 in c:\\programdata\\anaconda3\\lib\\site-packages (from pandas>=1.3.5->biogeme) (2023.3)\n",
      "Requirement already satisfied: colorama in c:\\programdata\\anaconda3\\lib\\site-packages (from tqdm>=4.64.1->biogeme) (0.4.6)\n",
      "Requirement already satisfied: six>=1.5 in c:\\programdata\\anaconda3\\lib\\site-packages (from python-dateutil>=2.8.2->pandas>=1.3.5->biogeme) (1.16.0)\n",
      "Note: you may need to restart the kernel to use updated packages.\n"
     ]
    }
   ],
   "source": [
    "pip install biogeme"
   ]
  },
  {
   "cell_type": "code",
   "execution_count": 3,
   "metadata": {
    "cell_id": "3a00d53efec44b429d82ed4a67390b53",
    "deepnote_cell_type": "code",
    "deepnote_to_be_reexecuted": false,
    "execution_millis": 1408,
    "execution_start": 1698745683277,
    "source_hash": "1d626a9"
   },
   "outputs": [
    {
     "name": "stdout",
     "output_type": "stream",
     "text": [
      "Results for model modele_0\n",
      "Nbr of parameters:\t\t5\n",
      "Sample size:\t\t\t5000\n",
      "Excluded data:\t\t\t0\n",
      "Final log likelihood:\t\t-5660.75\n",
      "Akaike Information Criterion:\t11331.5\n",
      "Bayesian Information Criterion:\t11364.09\n",
      "\n",
      "               Value  Rob. Std err  Rob. t-test  Rob. p-value\n",
      "B0_cycling -2.846748      0.093962   -30.296926  0.000000e+00\n",
      "B0_driving -0.918392      0.055744   -16.475137  0.000000e+00\n",
      "B0_publict -0.192053      0.037328    -5.145061  2.674332e-07\n",
      "B1         -0.022493      0.010794    -2.083883  3.717082e-02\n",
      "B2         -0.070829      0.037479    -1.889828  5.878101e-02\n"
     ]
    }
   ],
   "source": [
    "import pandas as pd\n",
    "import biogeme.database as db\n",
    "from biogeme.expressions import Variable\n",
    "\n",
    "import biogeme.biogeme as bio\n",
    "from biogeme import models\n",
    "from biogeme.expressions import Beta\n",
    "\n",
    "# Read t h e d a t a\n",
    "df = pd.read_csv( 'lpmc01.dat' , sep='\\t' )\n",
    "database = db.Database ( 'lmpc01' , df )\n",
    "\n",
    "trip_id = Variable('trip_id') \n",
    "household_id = Variable('household_id') \n",
    "person_n = Variable('person_n') \n",
    "trip_n = Variable('trip_n') \n",
    "travel_mode = Variable('travel_mode') \n",
    "purpose = Variable('purpose') \n",
    "fueltype = Variable('fueltype') \n",
    "faretype = Variable('faretype') \n",
    "bus_scale = Variable('bus_scale') \n",
    "survey_year = Variable('survey_year') \n",
    "travel_year = Variable('travel_year') \n",
    "travel_month = Variable('travel_month') \n",
    "travel_date = Variable('travel_date') \n",
    "day_of_week = Variable('day_of_week') \n",
    "start_time = Variable('start_time') \n",
    "age = Variable('age') \n",
    "female = Variable('female') \n",
    "driving_license = Variable('driving_license') \n",
    "car_ownership = Variable('car_ownership') \n",
    "distance = Variable('distance') \n",
    "dur_walking = Variable('dur_walking') \n",
    "dur_cycling = Variable('dur_cycling') \n",
    "dur_pt_access = Variable('dur_pt_access') \n",
    "dur_pt_rail = Variable('dur_pt_rail') \n",
    "dur_pt_bus = Variable('dur_pt_bus') \n",
    "dur_pt_int = Variable('dur_pt_int') \n",
    "pt_interchanges = Variable('pt_interchanges') \n",
    "dur_driving = Variable('dur_driving') \n",
    "cost_transit = Variable('cost_transit') \n",
    "cost_driving_fuel = Variable('cost_driving_fuel') \n",
    "cost_driving_ccharge = Variable('cost_driving_ccharge') \n",
    "driving_traffic_percent = Variable('driving_traffic_percent') \n",
    "#\n",
    "CHOICE = database.DefineVariable('CHOICE' , travel_mode)\n",
    "\n",
    "#CREATE VARIABLES\n",
    "\n",
    "cost_driving  = database.DefineVariable('cost_driving' , cost_driving_fuel + cost_driving_ccharge)\n",
    "tt_driving    = database.DefineVariable('tt_driving' , dur_driving)\n",
    "cost_cycling  = database.DefineVariable('cost_cycling' , dur_cycling * 0)\n",
    "cost_walking  = database.DefineVariable('cost_walking' , dur_walking * 0)\n",
    "tt_walking    = database.DefineVariable('tt_walking' , dur_walking)\n",
    "tt_cycling    = database.DefineVariable('tt_cycling' , dur_cycling)\n",
    "cost_publict  = database.DefineVariable('cost_publict' , cost_transit) \n",
    "tt_publict    = database.DefineVariable('tt_publict' , dur_pt_access + dur_pt_rail + dur_pt_bus + dur_pt_int  )\n",
    "\n",
    "\n",
    "#pour Beta seul le dernier argument est important : \n",
    "#a flag that indicates if the parameter must be estimated (0) or if it keeps its default value (1).\n",
    "B0_driving = Beta('B0_driving', 0, None, None, 0)\n",
    "B0_cycling = Beta('B0_cycling', 0, None, None, 0)\n",
    "B0_walking = Beta('B0_walking', 0, None, None, 1) # normalized to zero\n",
    "B0_publict = Beta('B0_publict', 0, None, None, 0)\n",
    "B1 = Beta('B1', 0, None, None, 0)\n",
    "B2 = Beta('B2', 0, None, None, 0)\n",
    "\n",
    "\n",
    "# D e f i n i t i o n  o f  t h e  u t i l i t y  f u n c t i o n s\n",
    "\n",
    "V_driving = ( B0_driving + B1 * cost_driving + B2 * tt_driving )\n",
    "V_cycling = ( B0_cycling + B1 * cost_cycling + B2 * tt_cycling )\n",
    "V_publict = ( B0_walking + B1 * cost_walking + B2 * tt_walking )\n",
    "V_walking = ( B0_publict + B1 * cost_publict + B2 * tt_publict )\n",
    "\n",
    "# A s s o c i a t e  u t i l i t y  f u n c t i o n s  w i t h  t h e numbering o f  a l t e r n a t i v e s\n",
    "\n",
    "V = {1: V_driving , 2: V_cycling , 3: V_walking , 4: V_publict }\n",
    "\n",
    "#il faut decrire le fait que tous les choix sont available\n",
    "un = database.DefineVariable('un' , cost_publict * 0 + 1) \n",
    "av = {1 : un, 2 : un, 3 : un, 4 : un }\n",
    "\n",
    "# D e f i n i t i o n  o f  t h e model . This i s  t h e  c o n t r i b u t i o n  o f each\n",
    "# o b s e r v a t i o n  t o  t h e  l o g l i k e l i h o o d  f u n c t i o n .\n",
    "logprob = models.loglogit(V, av , CHOICE)\n",
    "\n",
    "# Create t h e Biogeme o b j e c t\n",
    "the_biogeme = bio.BIOGEME( database , logprob )\n",
    "the_biogeme.modelName = 'modele_0'\n",
    "\n",
    "#??? cette fonction ne marche pas\n",
    "# C a l c u l a t e  t h e  n u l l  l o g l i k e l i h o o d  f o r  r e p o r t i n g .\n",
    "#the_biogeme.calculateNullLogLikelihood( av )\n",
    "\n",
    "# E s t i m a t e  t h e  p a r a m e t e r s\n",
    "results = the_biogeme.estimate()\n",
    "print( results.short_summary() )\n",
    "\n",
    "# Get t h e  r e s u l t s  i n  a pandas t a b l e\n",
    "pandas_results = results.getEstimatedParameters()\n",
    "print(pandas_results)\n",
    "\n",
    "#print(database)\n",
    "#print(V)\n"
   ]
  },
  {
   "cell_type": "code",
   "execution_count": 4,
   "metadata": {
    "cell_id": "8ad1cb95786948158c69bccbb8dc001f",
    "deepnote_cell_type": "code",
    "deepnote_to_be_reexecuted": true,
    "source_hash": "3289ed30"
   },
   "outputs": [
    {
     "name": "stdout",
     "output_type": "stream",
     "text": [
      "Results for model modele_1\n",
      "Nbr of parameters:\t\t7\n",
      "Sample size:\t\t\t5000\n",
      "Excluded data:\t\t\t0\n",
      "Final log likelihood:\t\t-4780.614\n",
      "Akaike Information Criterion:\t9575.228\n",
      "Bayesian Information Criterion:\t9620.848\n",
      "\n",
      "                Value  Rob. Std err  Rob. t-test  Rob. p-value\n",
      "B0_cycling  -3.179944      0.100770   -31.556519  0.000000e+00\n",
      "B0_driving   1.928358      0.111191    17.342737  0.000000e+00\n",
      "B0_publict  -0.546720      0.049385   -11.070558  0.000000e+00\n",
      "B1           0.011100      0.023025     0.482089  6.297426e-01\n",
      "B1_driving   0.198428      0.035129     5.648523  1.618321e-08\n",
      "B2          -0.457082      0.049540    -9.226448  0.000000e+00\n",
      "B2_driving -22.631895      0.997203   -22.695384  0.000000e+00\n"
     ]
    }
   ],
   "source": [
    "#modele 1\n",
    "#pour Beta seul le dernier argument est important : \n",
    "#a flag that indicates if the parameter must be estimated (0) or if it keeps its default value (1).\n",
    "B0_driving = Beta('B0_driving', 0, None, None, 0)\n",
    "B0_cycling = Beta('B0_cycling', 0, None, None, 0)\n",
    "B0_walking = Beta('B0_walking', 0, None, None, 1) # normalized to zero\n",
    "B0_publict = Beta('B0_publict', 0, None, None, 0)\n",
    "B1 = Beta('B1', 0, None, None, 0)\n",
    "B2 = Beta('B2', 0, None, None, 0)\n",
    "\n",
    "B1_driving = Beta('B1_driving', 0, None, None, 0)\n",
    "B2_driving = Beta('B2_driving', 0, None, None, 0)\n",
    "\n",
    "# D e f i n i t i o n  o f  t h e  u t i l i t y  f u n c t i o n s\n",
    "\n",
    "V_driving = ( B0_driving + (B1 + B1_driving) * cost_driving + (B2 + B2_driving) * tt_driving ) #verifier ca\n",
    "V_cycling = ( B0_cycling + B1 * cost_cycling + B2 * tt_cycling )\n",
    "V_publict = ( B0_walking + B1 * cost_walking + B2 * tt_walking )\n",
    "V_walking = ( B0_publict + B1 * cost_publict + B2 * tt_publict )\n",
    "\n",
    "\n",
    "# A s s o c i a t e  u t i l i t y  f u n c t i o n s  w i t h  t h e numbering o f  a l t e r n a t i v e s\n",
    "\n",
    "V = {1: V_driving , 2: V_cycling , 3: V_walking , 4: V_publict }\n",
    "\n",
    "#il faut decrire le fait que tous les choix sont available\n",
    "av = {1 : un, 2 : un, 3 : un, 4 : un }\n",
    "\n",
    "# D e f i n i t i o n  o f  t h e model . This i s  t h e  c o n t r i b u t i o n  o f each\n",
    "# o b s e r v a t i o n  t o  t h e  l o g l i k e l i h o o d  f u n c t i o n .\n",
    "logprob = models.loglogit(V, av , CHOICE)\n",
    "\n",
    "# Create t h e Biogeme o b j e c t\n",
    "the_biogeme = bio.BIOGEME( database , logprob )\n",
    "the_biogeme.modelName = 'modele_1'\n",
    "\n",
    "#??? cette fonction ne marche pas\n",
    "# C a l c u l a t e  t h e  n u l l  l o g l i k e l i h o o d  f o r  r e p o r t i n g .\n",
    "#the_biogeme.calculateNullLogLikelihood( av )\n",
    "\n",
    "# E s t i m a t e  t h e  p a r a m e t e r s\n",
    "results = the_biogeme.estimate()\n",
    "print( results.short_summary() )\n",
    "\n",
    "# Get t h e  r e s u l t s  i n  a pandas t a b l e\n",
    "pandas_results = results.getEstimatedParameters()\n",
    "print(pandas_results)\n"
   ]
  },
  {
   "cell_type": "markdown",
   "metadata": {
    "cell_id": "b0bebf9bc9254ed296cbeb915f6fca23",
    "deepnote_cell_type": "text-cell-p",
    "formattedRanges": []
   },
   "source": [
    "statistical test to compare modele 0 and modele 1\n",
    "t test i guess"
   ]
  },
  {
   "cell_type": "markdown",
   "metadata": {
    "cell_id": "dc4e433afbd541b4bb08908fb05a9aba",
    "deepnote_cell_type": "text-cell-p",
    "formattedRanges": []
   },
   "source": [
    "B1 not significant ? but all others yes ?\n"
   ]
  },
  {
   "cell_type": "code",
   "execution_count": 5,
   "metadata": {
    "cell_id": "eb8ebb114af1443cbec123c8185d9b7b",
    "deepnote_cell_type": "code",
    "deepnote_to_be_reexecuted": true,
    "source_hash": "99ebe5e7"
   },
   "outputs": [
    {
     "name": "stdout",
     "output_type": "stream",
     "text": [
      "Results for model modele_1_bis\n",
      "Nbr of parameters:\t\t7\n",
      "Sample size:\t\t\t5000\n",
      "Excluded data:\t\t\t0\n",
      "Final log likelihood:\t\t-5659.031\n",
      "Akaike Information Criterion:\t11332.06\n",
      "Bayesian Information Criterion:\t11377.68\n",
      "\n",
      "               Value  Rob. Std err   Rob. t-test  Rob. p-value\n",
      "B0_cycling -2.677126  1.133747e-01 -2.361307e+01  0.000000e+00\n",
      "B0_driving -0.921811  5.592360e-02 -1.648341e+01  0.000000e+00\n",
      "B0_publict -0.194376  3.738426e-02 -5.199410e+00  1.999219e-07\n",
      "B1         -0.024989  1.103582e-02 -2.264323e+00  2.355426e-02\n",
      "B1_publict -0.512029  5.164770e-16 -9.913888e+14  0.000000e+00\n",
      "B2         -0.079954  3.806872e-02 -2.100250e+00  3.570686e-02\n",
      "B2_publict -0.512091  2.178240e-01 -2.350939e+00  1.872612e-02\n"
     ]
    }
   ],
   "source": [
    "#modele 1 again for public transport\n",
    "#pour Beta seul le dernier argument est important : \n",
    "#a flag that indicates if the parameter must be estimated (0) or if it keeps its default value (1).\n",
    "B0_driving = Beta('B0_driving', 0, None, None, 0)\n",
    "B0_cycling = Beta('B0_cycling', 0, None, None, 0)\n",
    "B0_walking = Beta('B0_walking', 0, None, None, 1) # normalized to zero\n",
    "B0_publict = Beta('B0_publict', 0, None, None, 0)\n",
    "B1 = Beta('B1', 0, None, None, 0)\n",
    "B2 = Beta('B2', 0, None, None, 0)\n",
    "\n",
    "B1_publict = Beta('B1_publict', 0, None, None, 0)\n",
    "B2_publict = Beta('B2_publict', 0, None, None, 0)\n",
    "\n",
    "# D e f i n i t i o n  o f  t h e  u t i l i t y  f u n c t i o n s\n",
    "\n",
    "V_driving = ( B0_driving + (B1) * cost_driving + (B2) * tt_driving ) #verifier ca\n",
    "V_cycling = ( B0_cycling + (B1 + B1_publict) * cost_cycling + (B2 + B2_publict) * tt_cycling )\n",
    "V_publict = ( B0_walking + B1 * cost_walking + B2 * tt_walking )\n",
    "V_walking = ( B0_publict + B1 * cost_publict + B2 * tt_publict )\n",
    "\n",
    "\n",
    "# A s s o c i a t e  u t i l i t y  f u n c t i o n s  w i t h  t h e numbering o f  a l t e r n a t i v e s\n",
    "\n",
    "V = {1: V_driving , 2: V_cycling , 3: V_walking , 4: V_publict }\n",
    "\n",
    "#il faut decrire le fait que tous les choix sont available\n",
    "av = {1 : un, 2 : un, 3 : un, 4 : un }\n",
    "\n",
    "# D e f i n i t i o n  o f  t h e model . This i s  t h e  c o n t r i b u t i o n  o f each\n",
    "# o b s e r v a t i o n  t o  t h e  l o g l i k e l i h o o d  f u n c t i o n .\n",
    "logprob = models.loglogit(V, av , CHOICE)\n",
    "\n",
    "# Create t h e Biogeme o b j e c t\n",
    "the_biogeme = bio.BIOGEME( database , logprob )\n",
    "the_biogeme.modelName = 'modele_1_bis'\n",
    "\n",
    "#??? cette fonction ne marche pas\n",
    "# C a l c u l a t e  t h e  n u l l  l o g l i k e l i h o o d  f o r  r e p o r t i n g .\n",
    "#the_biogeme.calculateNullLogLikelihood( av )\n",
    "\n",
    "# E s t i m a t e  t h e  p a r a m e t e r s\n",
    "results = the_biogeme.estimate()\n",
    "print( results.short_summary() )\n",
    "\n",
    "# Get t h e  r e s u l t s  i n  a pandas t a b l e\n",
    "pandas_results = results.getEstimatedParameters()\n",
    "print(pandas_results)\n"
   ]
  },
  {
   "cell_type": "markdown",
   "metadata": {
    "cell_id": "194a96328d85440ea12cb73fdf227ae9",
    "deepnote_cell_type": "text-cell-p",
    "formattedRanges": []
   },
   "source": [
    "conclusion of modele 1 is that public transit does not care about money"
   ]
  },
  {
   "cell_type": "markdown",
   "metadata": {
    "cell_id": "e538bc55163b4b2baa2c9386cec670f8",
    "deepnote_cell_type": "text-cell-p",
    "formattedRanges": []
   },
   "source": [
    "model pref will be model 1 with extra beta 1 for driving "
   ]
  },
  {
   "cell_type": "markdown",
   "metadata": {
    "cell_id": "7347365d202b4f668db9024175797218",
    "deepnote_cell_type": "text-cell-p",
    "formattedRanges": []
   },
   "source": [
    "model 2 socoioeconomic characteristic candidates "
   ]
  },
  {
   "cell_type": "markdown",
   "metadata": {
    "cell_id": "4296d9f6b33c40339d168c99f26d0b45",
    "deepnote_cell_type": "text-cell-bullet",
    "formattedRanges": [],
    "is_collapsed": false
   },
   "source": [
    "- faretype : proxy for age + disabled"
   ]
  },
  {
   "cell_type": "markdown",
   "metadata": {
    "cell_id": "450a67fef62d4cbab8b60a5c7c5d3b0c",
    "deepnote_cell_type": "text-cell-bullet",
    "formattedRanges": [],
    "is_collapsed": false
   },
   "source": [
    "- age"
   ]
  },
  {
   "cell_type": "markdown",
   "metadata": {
    "cell_id": "557f031f9a744bbfb43e92a5478a9670",
    "deepnote_cell_type": "text-cell-bullet",
    "formattedRanges": [],
    "is_collapsed": false
   },
   "source": [
    "- female"
   ]
  },
  {
   "cell_type": "markdown",
   "metadata": {
    "cell_id": "a0b50389906a4aeca629776175468ea6",
    "deepnote_cell_type": "text-cell-bullet",
    "formattedRanges": [],
    "is_collapsed": false
   },
   "source": [
    "- driving_licence"
   ]
  },
  {
   "cell_type": "markdown",
   "metadata": {
    "cell_id": "b13ecc56014c40948635075fcbaf3d91",
    "deepnote_cell_type": "text-cell-bullet",
    "formattedRanges": [],
    "is_collapsed": false
   },
   "source": [
    "-  car_ownership"
   ]
  },
  {
   "cell_type": "markdown",
   "metadata": {
    "cell_id": "a280180770ac475ca49577ec4a8d2318",
    "deepnote_cell_type": "text-cell-bullet",
    "formattedRanges": [],
    "is_collapsed": false
   },
   "source": [
    "- distance"
   ]
  },
  {
   "cell_type": "markdown",
   "metadata": {
    "cell_id": "57d98a21d7094244a81fae639c3401ad",
    "deepnote_cell_type": "text-cell-p",
    "formattedRanges": [],
    "is_collapsed": false
   },
   "source": [
    "candidates for my 2 interactions"
   ]
  },
  {
   "cell_type": "markdown",
   "metadata": {
    "cell_id": "e5aee73e94f14127a74a9914c8c72eda",
    "deepnote_cell_type": "text-cell-bullet",
    "formattedRanges": [],
    "is_collapsed": false
   },
   "source": [
    "- driving_licence or car_ownership : B0_driving"
   ]
  },
  {
   "cell_type": "markdown",
   "metadata": {
    "cell_id": "3fa781bb997f40388038326a8a3972e6",
    "deepnote_cell_type": "text-cell-bullet",
    "formattedRanges": [],
    "is_collapsed": false
   },
   "source": [
    "- car_ownership : B0_publict"
   ]
  },
  {
   "cell_type": "markdown",
   "metadata": {
    "cell_id": "0a2760c58f574077b4fb80526fed65cb",
    "deepnote_cell_type": "text-cell-p",
    "formattedRanges": [],
    "is_collapsed": false
   },
   "source": [
    "lol : "
   ]
  },
  {
   "cell_type": "markdown",
   "metadata": {
    "cell_id": "fb2df817e03b41659c362a1e17cad2a5",
    "deepnote_cell_type": "text-cell-bullet",
    "formattedRanges": [],
    "is_collapsed": false
   },
   "source": [
    "- distance : B2_walking "
   ]
  },
  {
   "cell_type": "markdown",
   "metadata": {
    "cell_id": "90ad6b353db74d1392a8bca979c69788",
    "deepnote_cell_type": "text-cell-bullet",
    "formattedRanges": [],
    "is_collapsed": false
   },
   "source": [
    "- distance : B2_cycling"
   ]
  },
  {
   "cell_type": "markdown",
   "metadata": {
    "cell_id": "c234f4f596fb48768741ef11461c1849",
    "deepnote_cell_type": "text-cell-bullet",
    "formattedRanges": [],
    "is_collapsed": false
   },
   "source": [
    "- driving_licence : car_ownership"
   ]
  },
  {
   "cell_type": "markdown",
   "metadata": {
    "cell_id": "30ee12f19e5e4e5f881edc697061e0d1",
    "deepnote_cell_type": "text-cell-bullet",
    "formattedRanges": [],
    "is_collapsed": false
   },
   "source": [
    "- faretype : age"
   ]
  },
  {
   "cell_type": "markdown",
   "metadata": {
    "cell_id": "4e850ecb5186403e8651c04744199891",
    "deepnote_cell_type": "text-cell-bullet",
    "formattedRanges": [],
    "is_collapsed": false
   },
   "source": [
    "- faretype : B2_publict or driving"
   ]
  },
  {
   "cell_type": "code",
   "execution_count": 7,
   "metadata": {
    "cell_id": "158898a1bba346318086f7051006f440",
    "deepnote_cell_type": "code",
    "deepnote_to_be_reexecuted": true,
    "execution_millis": 168,
    "execution_start": 1698745381985,
    "source_hash": "1a781087"
   },
   "outputs": [
    {
     "name": "stdout",
     "output_type": "stream",
     "text": [
      "Results for model modele_2_all\n",
      "Nbr of parameters:\t\t15\n",
      "Sample size:\t\t\t5000\n",
      "Excluded data:\t\t\t0\n",
      "Final log likelihood:\t\t-4755.152\n",
      "Akaike Information Criterion:\t9540.303\n",
      "Bayesian Information Criterion:\t9638.061\n",
      "\n",
      "                  Value  Rob. Std err  Rob. t-test  Rob. p-value\n",
      "B0_cycling    -2.688276      0.124203   -21.644285  0.000000e+00\n",
      "B0_cycling_f  -0.984807      0.172731    -5.701402  1.188257e-08\n",
      "B0_driving     1.786436      0.157293    11.357390  0.000000e+00\n",
      "B0_driving_f   0.527911      0.171354     3.080826  2.064274e-03\n",
      "B0_publict    -0.636036      0.072434    -8.780871  0.000000e+00\n",
      "B0_publict_f   0.429704      0.094897     4.528102  5.951582e-06\n",
      "B0_walking_f   0.275465      0.090870     3.031430  2.433983e-03\n",
      "B1             0.053963      0.031703     1.702140  8.872912e-02\n",
      "B1_driving     0.150772      0.047088     3.201917  1.365163e-03\n",
      "B1_driving_f   0.009707      0.053325     0.182025  8.555632e-01\n",
      "B1_f          -0.080640      0.046338    -1.740272  8.181121e-02\n",
      "B2            -0.374353      0.065191    -5.742391  9.334898e-09\n",
      "B2_driving   -21.660067      1.364432   -15.874784  0.000000e+00\n",
      "B2_driving_f  -2.042121      1.998461    -1.021847  3.068533e-01\n",
      "B2_f          -0.182702      0.100923    -1.810322  7.024590e-02\n"
     ]
    }
   ],
   "source": [
    "#modele 2 female\n",
    "\n",
    "B0_cycling = Beta('B0_cycling', 0, None, None, 0)\n",
    "B0_walking = Beta('B0_walking', 0, None, None, 1) # normalized to zero\n",
    "B0_publict = Beta('B0_publict', 0, None, None, 0)\n",
    "B1 = Beta('B1', 0, None, None, 0)\n",
    "B2 = Beta('B2', 0, None, None, 0)\n",
    "\n",
    "B0_cycling_f = Beta('B0_cycling_f', 0, None, None, 0)\n",
    "B0_walking_f = Beta('B0_walking_f', 0, None, None, 0)\n",
    "B0_publict_f = Beta('B0_publict_f', 0, None, None, 0)\n",
    "B1_f = Beta('B1_f', 0, None, None, 0)\n",
    "B2_f = Beta('B2_f', 0, None, None, 0)\n",
    "\n",
    "B0_driving = Beta('B0_driving', 0, None, None, 0)\n",
    "B1_driving = Beta('B1_driving', 0, None, None, 0)\n",
    "B2_driving = Beta('B2_driving', 0, None, None, 0)\n",
    "\n",
    "B0_driving_f = Beta('B0_driving_f', 0, None, None, 0)\n",
    "B1_driving_f = Beta('B1_driving_f', 0, None, None, 0)\n",
    "B2_driving_f = Beta('B2_driving_f', 0, None, None, 0)\n",
    "\n",
    "# D e f i n i t i o n  o f  t h e  u t i l i t y  f u n c t i o n s\n",
    "\n",
    "V_driving = ( (B0_driving + B0_driving_f * female) \n",
    "                + (B1 + B1_driving + B1_driving_f * female) * cost_driving \n",
    "                + (B2 + B2_driving + B2_driving_f * female) * tt_driving ) #verifier ca\n",
    "\n",
    "V_cycling = ( (B0_cycling + B0_cycling_f * female) + (B1 + B1_f * female) * cost_cycling + (B2 + B2_f * female) * tt_cycling )\n",
    "V_publict = ( (B0_walking + B0_walking_f * female) + (B1 + B1_f * female) * cost_walking + (B2 + B2_f * female) * tt_walking )\n",
    "V_walking = ( (B0_publict + B0_publict_f * female) + (B1 + B1_f * female) * cost_publict + (B2 + B2_f * female) * tt_publict )\n",
    "\n",
    "# A s s o c i a t e  u t i l i t y  f u n c t i o n s  w i t h  t h e numbering o f  a l t e r n a t i v e s\n",
    "\n",
    "V = {1: V_driving , 2: V_cycling , 3: V_walking , 4: V_publict }\n",
    "\n",
    "#il faut decrire le fait que tous les choix sont available\n",
    "av = {1 : un, 2 : un, 3 : un, 4 : un }\n",
    "\n",
    "# D e f i n i t i o n  o f  t h e model . This i s  t h e  c o n t r i b u t i o n  o f each\n",
    "# o b s e r v a t i o n  t o  t h e  l o g l i k e l i h o o d  f u n c t i o n .\n",
    "logprob = models.loglogit(V, av , CHOICE)\n",
    "\n",
    "# Create t h e Biogeme o b j e c t\n",
    "the_biogeme = bio.BIOGEME( database , logprob )\n",
    "the_biogeme.modelName = 'modele_2_female'\n",
    "\n",
    "#??? cette fonction ne marche pas\n",
    "# C a l c u l a t e  t h e  n u l l  l o g l i k e l i h o o d  f o r  r e p o r t i n g .\n",
    "#the_biogeme.calculateNullLogLikelihood( av )\n",
    "\n",
    "# E s t i m a t e  t h e  p a r a m e t e r s\n",
    "results = the_biogeme.estimate()\n",
    "print( results.short_summary() )\n",
    "\n",
    "# Get t h e  r e s u l t s  i n  a pandas t a b l e\n",
    "pandas_results = results.getEstimatedParameters()\n",
    "print(pandas_results)\n"
   ]
  },
  {
   "cell_type": "markdown",
   "metadata": {
    "created_in_deepnote_cell": true,
    "deepnote_cell_type": "markdown"
   },
   "source": [
    "<a style='text-decoration:none;line-height:16px;display:flex;color:#5B5B62;padding:10px;justify-content:end;' href='https://deepnote.com?utm_source=created-in-deepnote-cell&projectId=cf9257be-d3fc-4cee-a6ca-c5176db4a842' target=\"_blank\">\n",
    "<img alt='Created in deepnote.com' style='display:inline;max-height:16px;margin:0px;margin-right:7.5px;' src='data:image/svg+xml;base64,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' > </img>\n",
    "Created in <span style='font-weight:600;margin-left:4px;'>Deepnote</span></a>"
   ]
  },
  {
   "cell_type": "markdown",
   "metadata": {},
   "source": [
    "interactions non significatives : \n",
    "B2_driving_f\n",
    "B1_f          pas vraiment\n",
    "B1_driving_f\n",
    "\n",
    "significatives :\n",
    "B0_cycling_f  \n",
    "B0_driving_f   \n",
    "B0_publict_f   \n",
    "B0_walking_f   \n",
    "\n",
    "conclusions :\n",
    "gender changes the base willingness to choose a mode of transport and the value of money but not really the value of time\n"
   ]
  },
  {
   "cell_type": "code",
   "execution_count": 10,
   "metadata": {},
   "outputs": [
    {
     "name": "stdout",
     "output_type": "stream",
     "text": [
      "Results for model modele_2_female\n",
      "Nbr of parameters:\t\t19\n",
      "Sample size:\t\t\t5000\n",
      "Excluded data:\t\t\t0\n",
      "Final log likelihood:\t\t-4531.719\n",
      "Akaike Information Criterion:\t9101.439\n",
      "Bayesian Information Criterion:\t9225.265\n",
      "\n",
      "                    Value  Rob. Std err  Rob. t-test  Rob. p-value\n",
      "B0_cycling      -2.078343      0.144210   -14.411966  0.000000e+00\n",
      "B0_cycling_dist  0.000380      0.000037    10.197875  0.000000e+00\n",
      "B0_cycling_f    -1.047225      0.164712    -6.357899  2.045315e-10\n",
      "B0_driving       2.032218      0.172295    11.794975  0.000000e+00\n",
      "B0_driving_dist -0.001567      0.000100   -15.738091  0.000000e+00\n",
      "B0_driving_f     0.397007      0.178918     2.218934  2.649124e-02\n",
      "B0_publict      -0.498860      0.085613    -5.826884  5.647167e-09\n",
      "B0_publict_dist  0.000668      0.000047    14.368311  0.000000e+00\n",
      "B0_publict_f     0.390981      0.096093     4.068800  4.725580e-05\n",
      "B0_walking_dist  0.000519      0.000033    15.573203  0.000000e+00\n",
      "B0_walking_f     0.259237      0.096032     2.699484  6.944702e-03\n",
      "B1              -0.010049      0.035204    -0.285441  7.753066e-01\n",
      "B1_driving       0.123367      0.048142     2.562589  1.038950e-02\n",
      "B1_driving_f     0.017401      0.052959     0.328567  7.424828e-01\n",
      "B1_f            -0.052309      0.050259    -1.040787  2.979744e-01\n",
      "B2              -1.347810      0.225336    -5.981329  2.213237e-09\n",
      "B2_driving       2.769694      1.845785     1.500551  1.334718e-01\n",
      "B2_driving_f    -1.300615      2.169919    -0.599384  5.489168e-01\n",
      "B2_f            -0.168666      0.115639    -1.458552  1.446885e-01\n"
     ]
    }
   ],
   "source": [
    "#modele 2 female and distance \n",
    "\n",
    "B0_cycling = Beta('B0_cycling', 0, None, None, 0)\n",
    "B0_walking = Beta('B0_walking', 0, None, None, 1) # normalized to zero\n",
    "B0_publict = Beta('B0_publict', 0, None, None, 0)\n",
    "B1 = Beta('B1', 0, None, None, 0)\n",
    "B2 = Beta('B2', 0, None, None, 0)\n",
    "\n",
    "B0_driving = Beta('B0_driving', 0, None, None, 0)\n",
    "B1_driving = Beta('B1_driving', 0, None, None, 0)\n",
    "B2_driving = Beta('B2_driving', 0, None, None, 0)\n",
    "\n",
    "B0_driving_f = Beta('B0_driving_f', 0, None, None, 0)\n",
    "B0_cycling_f = Beta('B0_cycling_f', 0, None, None, 0)\n",
    "B0_walking_f = Beta('B0_walking_f', 0, None, None, 0)\n",
    "B0_publict_f = Beta('B0_publict_f', 0, None, None, 0)\n",
    "B1_f = Beta('B1_f', 0, None, None, 0)\n",
    "B2_f = Beta('B2_f', 0, None, None, 0)\n",
    "\n",
    "B0_driving_dist = Beta('B0_driving_dist', 0, None, None, 0)\n",
    "B0_cycling_dist = Beta('B0_cycling_dist', 0, None, None, 0)\n",
    "B0_walking_dist = Beta('B0_walking_dist', 0, None, None, 0)\n",
    "B0_publict_dist = Beta('B0_publict_dist', 0, None, None, 0)\n",
    "\n",
    "# D e f i n i t i o n  o f  t h e  u t i l i t y  f u n c t i o n s\n",
    "\n",
    "V_driving = ( (B0_driving + B0_driving_f * female + B0_driving_dist * distance) \n",
    "               + (B1 + B1_driving + B1_driving_f * female) * cost_driving \n",
    "               + (B2 + B2_driving + B2_driving_f * female) * tt_driving ) #verifier ca\n",
    "\n",
    "V_cycling = ( (B0_cycling + B0_cycling_f * female + B0_cycling_dist * distance) \n",
    "             + (B1 + B1_f * female) * cost_cycling \n",
    "             + (B2 + B2_f * female) * tt_cycling )\n",
    "\n",
    "V_publict = ( (B0_walking + B0_walking_f * female + B0_publict_dist * distance) \n",
    "             + (B1 + B1_f * female) * cost_walking \n",
    "             + (B2 + B2_f * female) * tt_walking )\n",
    "\n",
    "V_walking = ( (B0_publict + B0_publict_f * female + B0_walking_dist * distance) \n",
    "             + (B1 + B1_f * female) * cost_publict \n",
    "             + (B2 + B2_f * female) * tt_publict )\n",
    "\n",
    "# A s s o c i a t e  u t i l i t y  f u n c t i o n s  w i t h  t h e numbering o f  a l t e r n a t i v e s\n",
    "\n",
    "V = {1: V_driving , 2: V_cycling , 3: V_walking , 4: V_publict }\n",
    "\n",
    "#il faut decrire le fait que tous les choix sont available\n",
    "av = {1 : un, 2 : un, 3 : un, 4 : un }\n",
    "\n",
    "# D e f i n i t i o n  o f  t h e model . This i s  t h e  c o n t r i b u t i o n  o f each\n",
    "# o b s e r v a t i o n  t o  t h e  l o g l i k e l i h o o d  f u n c t i o n .\n",
    "logprob = models.loglogit(V, av , CHOICE)\n",
    "\n",
    "# Create t h e Biogeme o b j e c t\n",
    "the_biogeme = bio.BIOGEME( database , logprob )\n",
    "the_biogeme.modelName = 'modele_2_female'\n",
    "\n",
    "#??? cette fonction ne marche pas\n",
    "# C a l c u l a t e  t h e  n u l l  l o g l i k e l i h o o d  f o r  r e p o r t i n g .\n",
    "#the_biogeme.calculateNullLogLikelihood( av )\n",
    "\n",
    "# E s t i m a t e  t h e  p a r a m e t e r s\n",
    "results = the_biogeme.estimate()\n",
    "print( results.short_summary() )\n",
    "\n",
    "# Get t h e  r e s u l t s  i n  a pandas t a b l e\n",
    "pandas_results = results.getEstimatedParameters()\n",
    "print(pandas_results)\n"
   ]
  },
  {
   "cell_type": "markdown",
   "metadata": {},
   "source": [
    "variables non significatives :\n",
    "B0_driving_f     \n",
    "B1              \n",
    "B1_driving       \n",
    "B1_driving_f     \n",
    "B1_f            \n",
    "B2_driving       \n",
    "B2_driving_f    \n",
    "B2_f \n",
    "\n",
    "\n",
    "les 4 interactions de distance : intercept sont significatives :\n",
    "\n",
    "B0_cycling_dist \n",
    "B0_driving_dist \n",
    "B0_publict_dist  \n",
    "B0_walking_dist  "
   ]
  }
 ],
 "metadata": {
  "deepnote": {},
  "deepnote_execution_queue": [],
  "deepnote_notebook_id": "326953371bbf440b8962da87bad8931b",
  "kernelspec": {
   "display_name": "Python 3 (ipykernel)",
   "language": "python",
   "name": "python3"
  },
  "language_info": {
   "codemirror_mode": {
    "name": "ipython",
    "version": 3
   },
   "file_extension": ".py",
   "mimetype": "text/x-python",
   "name": "python",
   "nbconvert_exporter": "python",
   "pygments_lexer": "ipython3",
   "version": "3.11.5"
  }
 },
 "nbformat": 4,
 "nbformat_minor": 1
}
